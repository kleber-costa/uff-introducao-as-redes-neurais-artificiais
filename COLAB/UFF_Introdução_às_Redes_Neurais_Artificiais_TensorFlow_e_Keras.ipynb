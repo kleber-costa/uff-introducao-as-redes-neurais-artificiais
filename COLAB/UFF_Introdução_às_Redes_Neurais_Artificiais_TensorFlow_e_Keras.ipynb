{
  "nbformat": 4,
  "nbformat_minor": 0,
  "metadata": {
    "colab": {
      "provenance": []
    },
    "kernelspec": {
      "name": "python3",
      "display_name": "Python 3"
    },
    "language_info": {
      "name": "python"
    }
  },
  "cells": [
    {
      "cell_type": "markdown",
      "source": [
        "## **UFF - Minicurso: Introdução às Redes Neurais Artificiais**\n",
        "### Niterói, 19 e 20 de Outubro - 9h às 13h\n",
        "### Por Ygor Moreira Lima\n"
      ],
      "metadata": {
        "id": "JiE2RENWagli"
      }
    },
    {
      "cell_type": "markdown",
      "source": [
        "## Aquisição dos Pacotes TensorFlow e Keras\n",
        "Por default, o Google Colab já possui as libs acima. No entanto, é interessante que o procedimento seja feito, caso o notebook seja executado em outro ambiente."
      ],
      "metadata": {
        "id": "rIBDC-J4a3NO"
      }
    },
    {
      "cell_type": "code",
      "execution_count": 7,
      "metadata": {
        "colab": {
          "base_uri": "https://localhost:8080/"
        },
        "id": "e586yP9nkQWw",
        "outputId": "420ea868-0f8a-498e-d214-2eb4d1b072b3"
      },
      "outputs": [
        {
          "output_type": "stream",
          "name": "stdout",
          "text": [
            "Requirement already satisfied: tensorflow in /usr/local/lib/python3.10/dist-packages (2.13.0)\n",
            "Requirement already satisfied: absl-py>=1.0.0 in /usr/local/lib/python3.10/dist-packages (from tensorflow) (1.4.0)\n",
            "Requirement already satisfied: astunparse>=1.6.0 in /usr/local/lib/python3.10/dist-packages (from tensorflow) (1.6.3)\n",
            "Requirement already satisfied: flatbuffers>=23.1.21 in /usr/local/lib/python3.10/dist-packages (from tensorflow) (23.5.26)\n",
            "Requirement already satisfied: gast<=0.4.0,>=0.2.1 in /usr/local/lib/python3.10/dist-packages (from tensorflow) (0.4.0)\n",
            "Requirement already satisfied: google-pasta>=0.1.1 in /usr/local/lib/python3.10/dist-packages (from tensorflow) (0.2.0)\n",
            "Requirement already satisfied: grpcio<2.0,>=1.24.3 in /usr/local/lib/python3.10/dist-packages (from tensorflow) (1.59.0)\n",
            "Requirement already satisfied: h5py>=2.9.0 in /usr/local/lib/python3.10/dist-packages (from tensorflow) (3.9.0)\n",
            "Requirement already satisfied: keras<2.14,>=2.13.1 in /usr/local/lib/python3.10/dist-packages (from tensorflow) (2.13.1)\n",
            "Requirement already satisfied: libclang>=13.0.0 in /usr/local/lib/python3.10/dist-packages (from tensorflow) (16.0.6)\n",
            "Requirement already satisfied: numpy<=1.24.3,>=1.22 in /usr/local/lib/python3.10/dist-packages (from tensorflow) (1.23.5)\n",
            "Requirement already satisfied: opt-einsum>=2.3.2 in /usr/local/lib/python3.10/dist-packages (from tensorflow) (3.3.0)\n",
            "Requirement already satisfied: packaging in /usr/local/lib/python3.10/dist-packages (from tensorflow) (23.2)\n",
            "Requirement already satisfied: protobuf!=4.21.0,!=4.21.1,!=4.21.2,!=4.21.3,!=4.21.4,!=4.21.5,<5.0.0dev,>=3.20.3 in /usr/local/lib/python3.10/dist-packages (from tensorflow) (3.20.3)\n",
            "Requirement already satisfied: setuptools in /usr/local/lib/python3.10/dist-packages (from tensorflow) (67.7.2)\n",
            "Requirement already satisfied: six>=1.12.0 in /usr/local/lib/python3.10/dist-packages (from tensorflow) (1.16.0)\n",
            "Requirement already satisfied: tensorboard<2.14,>=2.13 in /usr/local/lib/python3.10/dist-packages (from tensorflow) (2.13.0)\n",
            "Requirement already satisfied: tensorflow-estimator<2.14,>=2.13.0 in /usr/local/lib/python3.10/dist-packages (from tensorflow) (2.13.0)\n",
            "Requirement already satisfied: termcolor>=1.1.0 in /usr/local/lib/python3.10/dist-packages (from tensorflow) (2.3.0)\n",
            "Requirement already satisfied: typing-extensions<4.6.0,>=3.6.6 in /usr/local/lib/python3.10/dist-packages (from tensorflow) (4.5.0)\n",
            "Requirement already satisfied: wrapt>=1.11.0 in /usr/local/lib/python3.10/dist-packages (from tensorflow) (1.15.0)\n",
            "Requirement already satisfied: tensorflow-io-gcs-filesystem>=0.23.1 in /usr/local/lib/python3.10/dist-packages (from tensorflow) (0.34.0)\n",
            "Requirement already satisfied: wheel<1.0,>=0.23.0 in /usr/local/lib/python3.10/dist-packages (from astunparse>=1.6.0->tensorflow) (0.41.2)\n",
            "Requirement already satisfied: google-auth<3,>=1.6.3 in /usr/local/lib/python3.10/dist-packages (from tensorboard<2.14,>=2.13->tensorflow) (2.17.3)\n",
            "Requirement already satisfied: google-auth-oauthlib<1.1,>=0.5 in /usr/local/lib/python3.10/dist-packages (from tensorboard<2.14,>=2.13->tensorflow) (1.0.0)\n",
            "Requirement already satisfied: markdown>=2.6.8 in /usr/local/lib/python3.10/dist-packages (from tensorboard<2.14,>=2.13->tensorflow) (3.5)\n",
            "Requirement already satisfied: requests<3,>=2.21.0 in /usr/local/lib/python3.10/dist-packages (from tensorboard<2.14,>=2.13->tensorflow) (2.31.0)\n",
            "Requirement already satisfied: tensorboard-data-server<0.8.0,>=0.7.0 in /usr/local/lib/python3.10/dist-packages (from tensorboard<2.14,>=2.13->tensorflow) (0.7.1)\n",
            "Requirement already satisfied: werkzeug>=1.0.1 in /usr/local/lib/python3.10/dist-packages (from tensorboard<2.14,>=2.13->tensorflow) (3.0.0)\n",
            "Requirement already satisfied: cachetools<6.0,>=2.0.0 in /usr/local/lib/python3.10/dist-packages (from google-auth<3,>=1.6.3->tensorboard<2.14,>=2.13->tensorflow) (5.3.1)\n",
            "Requirement already satisfied: pyasn1-modules>=0.2.1 in /usr/local/lib/python3.10/dist-packages (from google-auth<3,>=1.6.3->tensorboard<2.14,>=2.13->tensorflow) (0.3.0)\n",
            "Requirement already satisfied: rsa<5,>=3.1.4 in /usr/local/lib/python3.10/dist-packages (from google-auth<3,>=1.6.3->tensorboard<2.14,>=2.13->tensorflow) (4.9)\n",
            "Requirement already satisfied: requests-oauthlib>=0.7.0 in /usr/local/lib/python3.10/dist-packages (from google-auth-oauthlib<1.1,>=0.5->tensorboard<2.14,>=2.13->tensorflow) (1.3.1)\n",
            "Requirement already satisfied: charset-normalizer<4,>=2 in /usr/local/lib/python3.10/dist-packages (from requests<3,>=2.21.0->tensorboard<2.14,>=2.13->tensorflow) (3.3.0)\n",
            "Requirement already satisfied: idna<4,>=2.5 in /usr/local/lib/python3.10/dist-packages (from requests<3,>=2.21.0->tensorboard<2.14,>=2.13->tensorflow) (3.4)\n",
            "Requirement already satisfied: urllib3<3,>=1.21.1 in /usr/local/lib/python3.10/dist-packages (from requests<3,>=2.21.0->tensorboard<2.14,>=2.13->tensorflow) (2.0.6)\n",
            "Requirement already satisfied: certifi>=2017.4.17 in /usr/local/lib/python3.10/dist-packages (from requests<3,>=2.21.0->tensorboard<2.14,>=2.13->tensorflow) (2023.7.22)\n",
            "Requirement already satisfied: MarkupSafe>=2.1.1 in /usr/local/lib/python3.10/dist-packages (from werkzeug>=1.0.1->tensorboard<2.14,>=2.13->tensorflow) (2.1.3)\n",
            "Requirement already satisfied: pyasn1<0.6.0,>=0.4.6 in /usr/local/lib/python3.10/dist-packages (from pyasn1-modules>=0.2.1->google-auth<3,>=1.6.3->tensorboard<2.14,>=2.13->tensorflow) (0.5.0)\n",
            "Requirement already satisfied: oauthlib>=3.0.0 in /usr/local/lib/python3.10/dist-packages (from requests-oauthlib>=0.7.0->google-auth-oauthlib<1.1,>=0.5->tensorboard<2.14,>=2.13->tensorflow) (3.2.2)\n",
            "Requirement already satisfied: keras in /usr/local/lib/python3.10/dist-packages (2.13.1)\n"
          ]
        }
      ],
      "source": [
        "!pip install tensorflow\n",
        "!pip install keras"
      ]
    },
    {
      "cell_type": "code",
      "source": [
        "import tensorflow as tf\n",
        "print(\"TensorFlow version:\", tf.__version__)"
      ],
      "metadata": {
        "colab": {
          "base_uri": "https://localhost:8080/"
        },
        "id": "sudvO87yutNi",
        "outputId": "d8fda2f2-0217-4623-8438-a76647cfbe50"
      },
      "execution_count": 8,
      "outputs": [
        {
          "output_type": "stream",
          "name": "stdout",
          "text": [
            "TensorFlow version: 2.13.0\n"
          ]
        }
      ]
    },
    {
      "cell_type": "markdown",
      "source": [
        "## Low Level API - Conceitos\n",
        "Guia do TensorFlow: https://www.tensorflow.org/guide\n",
        "\n",
        "\n",
        "### Trabalhando com **Constantes**"
      ],
      "metadata": {
        "id": "s_rn236PY9FZ"
      }
    },
    {
      "cell_type": "code",
      "source": [
        "valor1 = tf.constant(4)\n",
        "valor2 = tf.constant(2)\n",
        "\n",
        "type(valor1)"
      ],
      "metadata": {
        "colab": {
          "base_uri": "https://localhost:8080/"
        },
        "id": "k29n2CP8YvbH",
        "outputId": "b6ac1705-15c0-4201-cd48-f5ee5a1138c1"
      },
      "execution_count": 9,
      "outputs": [
        {
          "output_type": "execute_result",
          "data": {
            "text/plain": [
              "tensorflow.python.framework.ops.EagerTensor"
            ]
          },
          "metadata": {},
          "execution_count": 9
        }
      ]
    },
    {
      "cell_type": "code",
      "source": [
        "print(valor1) # shape=() --> é um escalar"
      ],
      "metadata": {
        "colab": {
          "base_uri": "https://localhost:8080/"
        },
        "id": "w4egsMk9ZOmG",
        "outputId": "7c96c717-a4c3-4fba-fa2f-aab9cfb5c844"
      },
      "execution_count": 10,
      "outputs": [
        {
          "output_type": "stream",
          "name": "stdout",
          "text": [
            "tf.Tensor(4, shape=(), dtype=int32)\n"
          ]
        }
      ]
    },
    {
      "cell_type": "code",
      "source": [
        "soma = valor1 + valor2\n",
        "type(soma)"
      ],
      "metadata": {
        "colab": {
          "base_uri": "https://localhost:8080/"
        },
        "id": "OVOY2z9cZZ7g",
        "outputId": "ccbb20ed-c33b-4bb7-cef9-f459f71ad2e9"
      },
      "execution_count": 11,
      "outputs": [
        {
          "output_type": "execute_result",
          "data": {
            "text/plain": [
              "tensorflow.python.framework.ops.EagerTensor"
            ]
          },
          "metadata": {},
          "execution_count": 11
        }
      ]
    },
    {
      "cell_type": "code",
      "source": [
        "print(soma)"
      ],
      "metadata": {
        "colab": {
          "base_uri": "https://localhost:8080/"
        },
        "id": "H_LWgwfsZrTO",
        "outputId": "852c1967-1011-4bbc-e1e2-961b68bb8d10"
      },
      "execution_count": 12,
      "outputs": [
        {
          "output_type": "stream",
          "name": "stdout",
          "text": [
            "tf.Tensor(6, shape=(), dtype=int32)\n"
          ]
        }
      ]
    },
    {
      "cell_type": "code",
      "source": [
        "texto1 = tf.constant('UFF')\n",
        "texto2 = tf.constant(' - Introdução às Redes Neurais Artificiais')\n",
        "\n",
        "type(texto1)"
      ],
      "metadata": {
        "colab": {
          "base_uri": "https://localhost:8080/"
        },
        "id": "GPLykIDoaB7u",
        "outputId": "84856531-c648-4da0-eb35-3499f933d5a0"
      },
      "execution_count": 13,
      "outputs": [
        {
          "output_type": "execute_result",
          "data": {
            "text/plain": [
              "tensorflow.python.framework.ops.EagerTensor"
            ]
          },
          "metadata": {},
          "execution_count": 13
        }
      ]
    },
    {
      "cell_type": "code",
      "source": [
        "print(texto1)"
      ],
      "metadata": {
        "colab": {
          "base_uri": "https://localhost:8080/"
        },
        "id": "rRIS-OwtaKvE",
        "outputId": "8b5d556a-648b-42c6-809e-3d124abac745"
      },
      "execution_count": 14,
      "outputs": [
        {
          "output_type": "stream",
          "name": "stdout",
          "text": [
            "tf.Tensor(b'UFF', shape=(), dtype=string)\n"
          ]
        }
      ]
    },
    {
      "cell_type": "code",
      "source": [
        "print(texto2)"
      ],
      "metadata": {
        "colab": {
          "base_uri": "https://localhost:8080/"
        },
        "id": "lLp0ITbtaNGF",
        "outputId": "592c98e2-26b0-4175-fb7e-625d08c0cdeb"
      },
      "execution_count": 15,
      "outputs": [
        {
          "output_type": "stream",
          "name": "stdout",
          "text": [
            "tf.Tensor(b' - Introdu\\xc3\\xa7\\xc3\\xa3o \\xc3\\xa0s Redes Neurais Artificiais', shape=(), dtype=string)\n"
          ]
        }
      ]
    },
    {
      "cell_type": "code",
      "source": [
        "texto = texto1 + texto2"
      ],
      "metadata": {
        "id": "6rnMUYpgaQPi"
      },
      "execution_count": 16,
      "outputs": []
    },
    {
      "cell_type": "code",
      "source": [
        "print(texto)"
      ],
      "metadata": {
        "colab": {
          "base_uri": "https://localhost:8080/"
        },
        "id": "aTTnPyrLaR55",
        "outputId": "a786a4f2-07f3-4d6e-88b1-65f3be0cd02b"
      },
      "execution_count": 17,
      "outputs": [
        {
          "output_type": "stream",
          "name": "stdout",
          "text": [
            "tf.Tensor(b'UFF - Introdu\\xc3\\xa7\\xc3\\xa3o \\xc3\\xa0s Redes Neurais Artificiais', shape=(), dtype=string)\n"
          ]
        }
      ]
    },
    {
      "cell_type": "markdown",
      "source": [
        "### Trabalhando com **Variáveis**"
      ],
      "metadata": {
        "id": "68rYB4ekbZR5"
      }
    },
    {
      "cell_type": "code",
      "source": [
        "soma = tf.Variable([4.0, 5.0], name='soma')\n",
        "print(soma)\n",
        "soma.assign([5.0, 6.0])\n",
        "print(soma)\n",
        "soma.assign(soma+20)\n",
        "print(soma)"
      ],
      "metadata": {
        "colab": {
          "base_uri": "https://localhost:8080/"
        },
        "id": "z_liZMN-bbIe",
        "outputId": "ad749510-d5eb-4e89-fe02-3d5b49f85f86"
      },
      "execution_count": 18,
      "outputs": [
        {
          "output_type": "stream",
          "name": "stdout",
          "text": [
            "<tf.Variable 'soma:0' shape=(2,) dtype=float32, numpy=array([4., 5.], dtype=float32)>\n",
            "<tf.Variable 'soma:0' shape=(2,) dtype=float32, numpy=array([5., 6.], dtype=float32)>\n",
            "<tf.Variable 'soma:0' shape=(2,) dtype=float32, numpy=array([25., 26.], dtype=float32)>\n"
          ]
        }
      ]
    },
    {
      "cell_type": "code",
      "source": [
        "type(soma)"
      ],
      "metadata": {
        "colab": {
          "base_uri": "https://localhost:8080/"
        },
        "id": "qTjdf-C4y689",
        "outputId": "60bddaa7-1735-482c-ea5c-da19ea0efc5e"
      },
      "execution_count": 19,
      "outputs": [
        {
          "output_type": "execute_result",
          "data": {
            "text/plain": [
              "tensorflow.python.ops.resource_variable_ops.ResourceVariable"
            ]
          },
          "metadata": {},
          "execution_count": 19
        }
      ]
    },
    {
      "cell_type": "markdown",
      "source": [
        "### Trabalhando com **Matrizes**"
      ],
      "metadata": {
        "id": "qnLqqoWi3or2"
      }
    },
    {
      "cell_type": "code",
      "source": [
        "matriz_a = tf.constant([1, 1, 0], name='matriz_a')\n",
        "matriz_b = tf.constant([2, 0, 4], name='matriz_b')\n",
        "soma_matriz = matriz_a + matriz_b\n",
        "print(soma_matriz)"
      ],
      "metadata": {
        "colab": {
          "base_uri": "https://localhost:8080/"
        },
        "id": "RLDWFyc0zG3K",
        "outputId": "a758ddee-293e-4f91-bea5-fc9919968f32"
      },
      "execution_count": 20,
      "outputs": [
        {
          "output_type": "stream",
          "name": "stdout",
          "text": [
            "tf.Tensor([3 1 4], shape=(3,), dtype=int32)\n"
          ]
        }
      ]
    },
    {
      "cell_type": "code",
      "source": [
        "matriz_c = tf.constant([[1, 2, 3], [4, 5, 6], [7, 8, 9]], name='matriz_c')\n",
        "matriz_d = tf.constant([2, 60, 4], name='matriz_d')\n",
        "print(matriz_c)"
      ],
      "metadata": {
        "colab": {
          "base_uri": "https://localhost:8080/"
        },
        "id": "41oRRM714_aw",
        "outputId": "36d399d8-88bf-416d-f652-056cdc19fab5"
      },
      "execution_count": 21,
      "outputs": [
        {
          "output_type": "stream",
          "name": "stdout",
          "text": [
            "tf.Tensor(\n",
            "[[1 2 3]\n",
            " [4 5 6]\n",
            " [7 8 9]], shape=(3, 3), dtype=int32)\n"
          ]
        }
      ]
    },
    {
      "cell_type": "code",
      "source": [
        "soma_matriz_z = tf.add(matriz_b, matriz_d)\n",
        "print(soma_matriz_z)"
      ],
      "metadata": {
        "colab": {
          "base_uri": "https://localhost:8080/"
        },
        "id": "eQt1x7uX5qcS",
        "outputId": "c3be7fb4-2132-4db7-ba9b-53ab7c330a3d"
      },
      "execution_count": 22,
      "outputs": [
        {
          "output_type": "stream",
          "name": "stdout",
          "text": [
            "tf.Tensor([ 4 60  8], shape=(3,), dtype=int32)\n"
          ]
        }
      ]
    },
    {
      "cell_type": "markdown",
      "source": [
        "### Trabalhando com **Multiplicação de Matrizes**"
      ],
      "metadata": {
        "id": "RWzWoICz62wc"
      }
    },
    {
      "cell_type": "code",
      "source": [
        "matriz_a = tf.constant([1, 1, 0], name='matriz_a')\n",
        "matriz_b = tf.constant([2, 0, 4], name='matriz_b')\n",
        "matriz_d = tf.constant([2, 60, 4], name='matriz_d')\n",
        "matriz_p = matriz_a * matriz_b\n",
        "matriz_j = matriz_a * matriz_d\n",
        "print(matriz_p)\n",
        "print(matriz_j)"
      ],
      "metadata": {
        "colab": {
          "base_uri": "https://localhost:8080/"
        },
        "id": "4TVjHa2R65fU",
        "outputId": "6733c0d4-f4c5-41c8-943b-7d200376bb15"
      },
      "execution_count": 23,
      "outputs": [
        {
          "output_type": "stream",
          "name": "stdout",
          "text": [
            "tf.Tensor([2 0 0], shape=(3,), dtype=int32)\n",
            "tf.Tensor([ 2 60  0], shape=(3,), dtype=int32)\n"
          ]
        }
      ]
    },
    {
      "cell_type": "markdown",
      "source": [
        "### Trabalhando com **Produto Escalar**\n",
        "Exemplo de caso em que é necessário a utilização do Produto Escalar:\n",
        "\n",
        "![image.png](data:image/png;base64,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)"
      ],
      "metadata": {
        "id": "Yiauo2yTEu3j"
      }
    },
    {
      "cell_type": "code",
      "source": [
        "entradas = tf.constant([1, 7.0, 5], name='entradas')\n",
        "pesos = tf.constant([0.8, 0.1, 0.0], name='pesos')\n",
        "print(entradas)\n",
        "print(pesos)"
      ],
      "metadata": {
        "colab": {
          "base_uri": "https://localhost:8080/"
        },
        "id": "1kEEmGufEw44",
        "outputId": "f6df394d-5d94-45f6-f007-ca17ac3366e7"
      },
      "execution_count": 24,
      "outputs": [
        {
          "output_type": "stream",
          "name": "stdout",
          "text": [
            "tf.Tensor([1. 7. 5.], shape=(3,), dtype=float32)\n",
            "tf.Tensor([0.8 0.1 0. ], shape=(3,), dtype=float32)\n"
          ]
        }
      ]
    },
    {
      "cell_type": "code",
      "source": [
        "produto_escalar = tf.tensordot(entradas, pesos, 1)\n",
        "print(produto_escalar)"
      ],
      "metadata": {
        "colab": {
          "base_uri": "https://localhost:8080/"
        },
        "id": "iZU6BDlgFhQy",
        "outputId": "2ccc6eb8-a484-4583-acdd-53171d91e7d1"
      },
      "execution_count": 25,
      "outputs": [
        {
          "output_type": "stream",
          "name": "stdout",
          "text": [
            "tf.Tensor(1.5, shape=(), dtype=float32)\n"
          ]
        }
      ]
    },
    {
      "cell_type": "markdown",
      "source": [
        "### Trabalhando com **Grafos e TensorBoard**\n",
        "O TensorBoard é um conjunto de ferramentas de visualização para depuração, otimização e compreensão do TensorFlow, PyTorch, Hugging Face Transformers e outros programas de aprendizado de máquina."
      ],
      "metadata": {
        "id": "rU56Aze6IXct"
      }
    },
    {
      "cell_type": "code",
      "source": [
        "a = tf.add(2,2, name='add')\n",
        "b = tf.multiply(a, 5, name='mult1')\n",
        "c = tf.multiply(b, a, name='mult2')"
      ],
      "metadata": {
        "id": "f26XIvJ6n9eD"
      },
      "execution_count": 26,
      "outputs": []
    },
    {
      "cell_type": "code",
      "source": [
        "# Fonte desta solução: https://stackoverflow.com/questions/58843269/display-graph-using-tensorflow-v2-0-in-tensorboard\n",
        "\n",
        "import tensorflow as tf\n",
        "from tensorflow.python.ops import summary_ops_v2\n",
        "\n",
        "# Some function to convert into a graph\n",
        "@tf.function\n",
        "def my_fun(x):\n",
        "    return 2 * x\n",
        "\n",
        "# Test\n",
        "#a = tf.constant(10, tf.float32)\n",
        "#b = my_fun(a)\n",
        "#tf.print(b)\n",
        "# 20\n",
        "\n",
        "# Log the function graph\n",
        "log_dir = 'teste-graph-view'\n",
        "writer = tf.summary.create_file_writer(log_dir)\n",
        "with writer.as_default():\n",
        "    # Get concrete graph for some given inputs\n",
        "    func_graph = my_fun.get_concrete_function(c).graph\n",
        "    # Write the graph\n",
        "    summary_ops_v2.graph(func_graph.as_graph_def())\n",
        "writer.close()"
      ],
      "metadata": {
        "id": "_j_kkvwbvCHt"
      },
      "execution_count": 27,
      "outputs": []
    },
    {
      "cell_type": "markdown",
      "source": [
        "## Low Level API - Criação de RNA para solução do XOR"
      ],
      "metadata": {
        "id": "DNLExtNeIJGf"
      }
    },
    {
      "cell_type": "code",
      "source": [
        "import numpy as np\n",
        "import seaborn as sns"
      ],
      "metadata": {
        "id": "NtD0o5vyIZMl"
      },
      "execution_count": 28,
      "outputs": []
    },
    {
      "cell_type": "code",
      "source": [
        "X = np.array([[0,0], [0,1], [1,0], [1,1]])\n",
        "print(X)"
      ],
      "metadata": {
        "colab": {
          "base_uri": "https://localhost:8080/"
        },
        "id": "WW6kewr7Jok5",
        "outputId": "c6056728-4f3f-4ef1-b025-6b7e13b006b5"
      },
      "execution_count": 29,
      "outputs": [
        {
          "output_type": "stream",
          "name": "stdout",
          "text": [
            "[[0 0]\n",
            " [0 1]\n",
            " [1 0]\n",
            " [1 1]]\n"
          ]
        }
      ]
    },
    {
      "cell_type": "code",
      "source": [
        "y = np.array([[0], [1], [1], [0]])\n",
        "print(y)"
      ],
      "metadata": {
        "colab": {
          "base_uri": "https://localhost:8080/"
        },
        "id": "MTK_wLyHJrMD",
        "outputId": "1dcdf243-68e9-4eb3-8485-a7de534e73f7"
      },
      "execution_count": 30,
      "outputs": [
        {
          "output_type": "stream",
          "name": "stdout",
          "text": [
            "[[0]\n",
            " [1]\n",
            " [1]\n",
            " [0]]\n"
          ]
        }
      ]
    },
    {
      "cell_type": "code",
      "source": [
        "X = tf.convert_to_tensor(X, dtype = tf.float32, name = 'X')\n",
        "y = tf.convert_to_tensor(y, dtype = tf.float32, name = 'y')"
      ],
      "metadata": {
        "id": "fgfOZHqTJ81G"
      },
      "execution_count": 31,
      "outputs": []
    },
    {
      "cell_type": "code",
      "source": [
        "neuronios_entrada = 2\n",
        "neuronios_oculta = 3\n",
        "neuronios_saida = 1"
      ],
      "metadata": {
        "id": "ojmPbt9wJ_KP"
      },
      "execution_count": 32,
      "outputs": []
    },
    {
      "cell_type": "code",
      "source": [
        "# Nosso dicionário 'W' contém as informações de peso da camada oculta e da camada de saída\n",
        "# Lembrando: Pela arquitetura que definimos previamente, são 6 pesos na camada oculta e 3 pesos na camada de saída.\n",
        "# Os valores são inicializados aleatoriamente, conforme uma distribuição normal\n",
        "# Camada oculta: São dispostos em uma matriz 2X3\n",
        "# Camada saída: São dispostos em uma matriz 1X3\n",
        "\n",
        "W = {'oculta': tf.Variable(tf.random.normal([neuronios_entrada, neuronios_oculta]), name = 'w_oculta'),\n",
        "     'saida': tf.Variable(tf.random.normal([neuronios_oculta, neuronios_saida]), name = 'w_saida')}"
      ],
      "metadata": {
        "id": "7jNmS4f-KDZ6"
      },
      "execution_count": 33,
      "outputs": []
    },
    {
      "cell_type": "code",
      "source": [
        "print(W['oculta'])"
      ],
      "metadata": {
        "colab": {
          "base_uri": "https://localhost:8080/"
        },
        "id": "qdPOzKfZKavI",
        "outputId": "445eb64f-b54b-44e0-9172-78a93ebd462e"
      },
      "execution_count": 34,
      "outputs": [
        {
          "output_type": "stream",
          "name": "stdout",
          "text": [
            "<tf.Variable 'w_oculta:0' shape=(2, 3) dtype=float32, numpy=\n",
            "array([[ 0.2830241 , -0.06998097,  0.07044429],\n",
            "       [ 0.02914419, -1.1185158 ,  1.1180975 ]], dtype=float32)>\n"
          ]
        }
      ]
    },
    {
      "cell_type": "code",
      "source": [
        "print(W['saida'])"
      ],
      "metadata": {
        "colab": {
          "base_uri": "https://localhost:8080/"
        },
        "id": "1O2sH0XcKdsT",
        "outputId": "6ef2bd4c-e905-44c8-b6fd-650c5503c69a"
      },
      "execution_count": 35,
      "outputs": [
        {
          "output_type": "stream",
          "name": "stdout",
          "text": [
            "<tf.Variable 'w_saida:0' shape=(3, 1) dtype=float32, numpy=\n",
            "array([[-1.3239827 ],\n",
            "       [-0.50333774],\n",
            "       [ 0.30791482]], dtype=float32)>\n"
          ]
        }
      ]
    },
    {
      "cell_type": "code",
      "source": [
        "distribuicao = np.random.normal(size = 500)\n",
        "sns.displot(distribuicao)"
      ],
      "metadata": {
        "colab": {
          "base_uri": "https://localhost:8080/",
          "height": 523
        },
        "id": "A-4f8W__KzpB",
        "outputId": "3e1ad8b2-f530-41a9-e686-125bbb101839"
      },
      "execution_count": 36,
      "outputs": [
        {
          "output_type": "execute_result",
          "data": {
            "text/plain": [
              "<seaborn.axisgrid.FacetGrid at 0x7b56c879f370>"
            ]
          },
          "metadata": {},
          "execution_count": 36
        },
        {
          "output_type": "display_data",
          "data": {
            "text/plain": [
              "<Figure size 500x500 with 1 Axes>"
            ],
            "image/png": "[encoded data removed]"
          },
          "metadata": {}
        }
      ]
    },
    {
      "cell_type": "code",
      "source": [
        "print(f\"Tamanho do vetor distribuicao: {len(distribuicao)}\")\n",
        "print(distribuicao)"
      ],
      "metadata": {
        "colab": {
          "base_uri": "https://localhost:8080/"
        },
        "id": "3eF6LikINxU9",
        "outputId": "dfe74d54-f601-4d1e-be72-2962af132a10"
      },
      "execution_count": 37,
      "outputs": [
        {
          "output_type": "stream",
          "name": "stdout",
          "text": [
            "Tamanho do vetor distribuicao: 500\n",
            "[ 1.07010563e-02  4.28479658e-01 -1.79271861e+00 -8.02235146e-01\n",
            "  1.47557376e-02 -2.40031709e-01  5.05213444e-01  6.94640868e-01\n",
            " -4.07140684e-04 -5.43307528e-01  2.12493349e+00  5.43564294e-01\n",
            "  1.12344630e+00  1.21161331e-01  1.37917396e+00 -9.43667296e-01\n",
            " -1.81477407e+00  1.45297058e-01 -8.86237984e-01 -3.34572539e-01\n",
            " -2.21994590e-01 -4.16710175e-01  7.10802634e-01  3.66750444e-01\n",
            " -9.11666510e-01 -5.81575987e-01  3.08335089e-01 -1.43871041e+00\n",
            "  1.26900626e+00 -1.36668595e+00 -1.45124206e-01 -9.57423168e-01\n",
            " -3.43434766e-01  6.98431845e-01 -6.40398601e-02  5.47265720e-01\n",
            "  3.77164979e-01  8.34224542e-01 -6.85774326e-01 -2.28079887e-01\n",
            " -3.91484393e-01 -1.02661381e+00  8.68546749e-01  1.39049661e-01\n",
            "  2.11816021e+00 -8.10297760e-01 -2.54863910e+00 -1.03626390e-01\n",
            " -3.46256545e-01  2.06772956e+00  4.77680172e-02 -2.42017536e+00\n",
            " -2.72297747e+00 -3.72840768e-01  4.24418045e-01 -3.54923248e-01\n",
            "  9.64753833e-01 -9.61105011e-01 -1.82994674e+00  4.37277613e-01\n",
            " -1.41854283e+00  1.58328819e+00 -4.15413029e-01 -4.86145984e-01\n",
            " -1.60409652e-01  4.29236296e-01  7.28113421e-01 -9.33213800e-01\n",
            " -1.32285074e+00 -1.99200971e+00  1.46152412e-01 -8.59631054e-02\n",
            " -1.34274447e+00  1.99465673e-01  4.53390076e-01 -3.26457908e-01\n",
            " -1.50979704e-01 -9.09981718e-01 -7.63300473e-01 -3.86264511e-01\n",
            " -1.32481776e+00 -2.04288308e+00  3.27148873e-02  1.77383293e+00\n",
            "  2.41261010e-01 -1.88787724e+00 -7.29954598e-01  1.30259532e-01\n",
            "  1.23371134e+00 -8.88550674e-01 -1.09528970e+00 -3.71691715e-01\n",
            "  5.94361685e-01 -1.01637520e-01 -1.52319971e+00 -7.65106369e-01\n",
            "  1.42564135e-01  7.44472090e-01 -1.62137323e+00 -7.44773756e-01\n",
            "  6.69615994e-01 -1.67995337e+00  5.93309035e-01 -5.68079587e-02\n",
            "  1.56878763e+00 -7.75128606e-01  1.70894921e+00  6.70436463e-01\n",
            " -1.58159528e+00  2.01962071e-01 -4.23589467e-01 -1.43631794e+00\n",
            " -5.68854185e-01 -1.85370702e-01 -6.01326538e-01  1.16494676e+00\n",
            " -1.95265514e+00  1.35222416e+00  2.00527922e+00 -7.14013054e-01\n",
            "  9.42434639e-01  2.76382300e-01 -3.47761864e-01  3.83565093e-01\n",
            " -1.35243371e-01  1.45362156e+00  1.41587853e+00 -5.66221887e-01\n",
            "  9.36821115e-01 -7.19374669e-01  6.20013310e-01  2.77087666e+00\n",
            " -6.90545122e-01  3.04259908e-01  1.19589671e+00  1.59760194e+00\n",
            " -6.41707589e-01  2.08949531e+00  3.51088604e-01 -1.32501676e+00\n",
            " -1.58557712e+00 -1.08928012e+00 -1.37808323e+00  8.03191851e-01\n",
            "  1.41762172e+00 -4.83824232e-02 -4.95952445e-01  1.51926693e+00\n",
            "  9.56200800e-01  3.60706441e-01  7.12072875e-01  1.45167316e+00\n",
            " -6.45695985e-01  2.12043116e-02 -2.40684995e-01  1.12740143e+00\n",
            " -6.90031609e-02 -5.91232353e-01  1.33555038e+00  1.96511759e+00\n",
            " -5.00869115e-01 -1.32736371e+00  7.84805311e-01  1.48588494e+00\n",
            "  1.57403492e-01 -1.36201445e+00 -8.21586488e-01 -3.42632833e-01\n",
            " -1.66134495e+00 -9.65951320e-01 -3.01851321e+00  4.21426844e-01\n",
            " -1.20335300e+00  2.45045059e-01 -2.13309650e-01 -1.16412477e-01\n",
            " -1.23594552e-01  1.16382279e+00  2.76184572e-01  1.12900105e+00\n",
            "  2.32048253e-01  6.44895191e-01 -8.31889225e-01 -5.41718565e-01\n",
            "  1.38286262e+00 -1.06598742e-01 -4.32075492e-01  1.29384018e+00\n",
            " -4.78745305e-01  3.60850094e-01 -6.03333482e-01  4.21491066e-01\n",
            "  2.44320421e-01  1.62401829e+00  3.42287716e-01  8.95700866e-01\n",
            "  7.26596111e-01  5.66262858e-01  7.19450625e-01 -6.02554477e-02\n",
            " -9.70377630e-01 -3.28123907e-01 -3.96402412e-01  2.54461431e+00\n",
            "  1.04454369e-01 -6.48299726e-01  1.43220206e-01 -2.89989796e+00\n",
            "  7.36571093e-01  4.61678916e-01  1.64655409e-01  9.36251255e-01\n",
            " -9.62255028e-01  2.98675267e-02  5.39472670e-02 -1.06601178e+00\n",
            " -8.97050456e-01 -7.48938640e-01 -1.43521659e+00  1.09329278e+00\n",
            "  1.37931529e+00 -2.71538358e+00  3.13300433e-01  3.23082994e-01\n",
            "  1.33067911e+00  9.06532564e-01  2.82353983e-01 -5.16814100e-01\n",
            "  6.64303614e-01 -1.63574832e+00 -7.90242521e-01 -9.05554465e-01\n",
            "  1.90481947e-01 -2.46234559e-01  6.27020092e-01 -6.27673348e-01\n",
            " -2.25522631e-01  3.76757121e-01 -4.62562581e-01  1.62289382e+00\n",
            "  6.62800265e-01  9.08614351e-01  9.95105028e-01 -1.31608676e+00\n",
            " -1.76555896e+00  1.62836474e+00 -1.63042250e-01  3.05215842e-01\n",
            "  1.29809010e+00  6.98924879e-01 -1.87024549e+00  6.24688446e-01\n",
            " -1.62312891e+00 -3.74356120e-01 -1.07377661e+00  4.52382508e-01\n",
            " -5.42261882e-01 -3.21232263e-01  1.54387376e+00  6.58845236e-01\n",
            " -3.64903483e-01  4.71908806e-01 -1.08735663e+00  1.79461567e+00\n",
            "  1.73243961e+00  7.58861454e-02  4.61217119e-01  1.20209548e+00\n",
            "  6.74263135e-02  8.11917480e-01  2.04512849e-01 -1.67406030e-01\n",
            " -1.92755951e+00  9.29429702e-01  6.18132621e-01  4.53441287e-01\n",
            "  4.20685318e-01  1.51762629e+00  1.05874677e+00  7.74564610e-01\n",
            " -1.07570208e-01  1.49134807e-01  4.96146305e-01 -1.00838603e+00\n",
            " -1.52482230e+00  6.85827878e-01 -3.73730609e-01 -6.05087138e-01\n",
            " -4.07893072e-01  3.82050587e-01 -1.04871511e+00  1.95977710e+00\n",
            " -3.07231440e-01  1.55053837e+00 -1.58056823e+00 -5.22928469e-01\n",
            "  2.04657333e-01  8.77991532e-01  3.25853971e-01  3.23002060e-01\n",
            "  1.00586841e+00 -3.54786601e-01 -4.39234988e-01  5.65522664e-01\n",
            "  8.75552481e-01  1.83469165e-01 -5.73197352e-01 -3.45751206e-01\n",
            " -2.60403474e-02 -6.69515069e-01  4.38450028e-01 -7.48163370e-01\n",
            "  1.79625737e-01  2.06693922e+00  4.53798373e-01  1.13400832e+00\n",
            "  1.71084755e-01  5.41368252e-01  5.15998623e-02 -3.70034965e-02\n",
            " -9.21891155e-01 -1.39762924e+00 -6.31046113e-01 -9.44679190e-01\n",
            " -1.39280016e+00 -3.87927105e-01 -1.95785907e+00  5.39988632e-01\n",
            " -7.09622817e-01  4.12865714e-01  2.64958285e-01 -8.74910424e-01\n",
            " -7.50088095e-01  1.42913309e+00 -1.21658521e+00  1.11418691e+00\n",
            " -1.50984516e+00  3.01049752e-01 -8.75560604e-01 -2.14185443e-04\n",
            "  6.22237821e-01  2.59113173e-01 -1.54532367e+00  1.02931443e+00\n",
            " -1.34880301e+00  2.18314850e-01 -8.40319956e-01  1.54252423e-01\n",
            " -1.36047592e+00 -2.32073765e-01  6.57206965e-01 -4.86235265e-02\n",
            "  6.42240659e-01  1.80885959e+00 -3.14847753e-01  1.31355334e+00\n",
            "  7.00953107e-01  6.98365413e-01  6.20076315e-01 -1.83287469e+00\n",
            "  3.83019498e-01 -1.16847853e+00 -1.01444463e+00  1.21455564e+00\n",
            " -9.74008884e-01  9.10063562e-01 -2.70704395e-02 -1.17208108e-01\n",
            " -6.26826690e-01 -1.24250737e-01  3.99873876e-01 -2.03217746e+00\n",
            "  1.06597436e-01 -1.30068017e+00 -1.68189021e-01  4.41026347e-02\n",
            " -9.89883934e-01  7.25221415e-01 -1.49619304e+00  1.26978429e+00\n",
            " -2.21864018e-01 -1.15242672e+00  5.61183044e-02 -2.21895292e-01\n",
            " -1.06076097e+00  2.00674491e+00  2.14847879e-01  3.58110192e-01\n",
            " -1.18634092e+00  4.35537900e-01  6.99807028e-01  1.01470492e+00\n",
            " -5.29722853e-01 -5.74637428e-01 -4.72800230e-01 -1.96528926e-01\n",
            " -4.55577798e-01  4.65539281e-01  1.37834038e+00  3.19169052e-01\n",
            "  6.03845220e-01  3.90442290e-01  3.66551350e-01  2.04045859e+00\n",
            "  1.17606072e+00  8.93495295e-01  7.68883698e-01  1.28827994e+00\n",
            " -1.14249338e+00  4.30436890e-01 -5.80636792e-01 -4.57989226e-01\n",
            " -4.32405521e-01 -7.18397727e-01  4.85929430e-01  1.44340672e+00\n",
            " -6.97830412e-01  4.64415028e-01  1.72887231e-01 -3.51573251e-01\n",
            " -1.58605414e+00  6.51264958e-01  6.06934586e-01 -1.05064653e+00\n",
            "  2.59232858e-03  2.27276153e-01  4.89966118e-01  1.43448518e+00\n",
            "  1.79196096e-01  3.08297994e-01 -2.33265210e-01  1.85697516e-01\n",
            " -1.11029748e+00  7.66424190e-01 -2.32485907e-01 -1.34294122e+00\n",
            "  5.90964569e-01  1.18076394e+00 -7.44181358e-01 -8.22078070e-02\n",
            " -2.30773413e-01 -5.20218884e-01  2.89830863e-01 -1.46324515e+00\n",
            " -8.32010522e-01  9.47322664e-01 -2.23310386e+00  7.64289176e-01\n",
            " -3.36351659e-01  3.49957373e-01 -7.52273605e-01 -6.93359170e-01\n",
            "  9.59569249e-01 -4.14882648e-01  3.09808388e-01  1.36783674e+00\n",
            " -3.39082611e-01  3.73839580e-01 -4.69892976e-01  1.65812339e+00\n",
            " -2.55017649e-01 -2.96991514e+00  4.45479285e-01  6.30365787e-01\n",
            "  4.06690710e-01 -2.84166726e-01  8.51929250e-01  2.07990558e-01\n",
            "  5.85255267e-01 -1.38020168e+00 -8.73670795e-02  1.52069081e+00\n",
            " -6.81262158e-01 -3.62569690e-01  1.78163905e+00 -5.85347293e-01\n",
            " -9.30102780e-02 -4.21135249e-02 -2.19337944e-01  9.39154118e-01\n",
            " -7.05861169e-01 -1.46034658e-01  1.63978037e+00 -4.57140913e-01\n",
            "  3.66265059e-01  5.80643532e-01 -2.01332381e-01 -1.20183828e+00\n",
            "  1.13241467e+00 -7.10645834e-02 -8.56797417e-01  1.21415470e+00\n",
            "  4.82049961e-01  1.47334946e-01  2.33071925e-01  1.39985362e-01\n",
            " -3.14617456e-01  9.83794294e-01  2.37310017e+00 -1.54522248e+00]\n"
          ]
        }
      ]
    },
    {
      "cell_type": "code",
      "source": [
        "b = {'oculta': tf.Variable(tf.random.normal([neuronios_oculta]), name = 'b_oculta'),\n",
        "     'saida': tf.Variable(tf.random.normal([neuronios_saida]), name = 'b_saida')}"
      ],
      "metadata": {
        "id": "-ZbpxHu8LORQ"
      },
      "execution_count": 38,
      "outputs": []
    },
    {
      "cell_type": "code",
      "source": [
        "b"
      ],
      "metadata": {
        "colab": {
          "base_uri": "https://localhost:8080/"
        },
        "id": "273qwPp-LPcZ",
        "outputId": "5f863a18-bb48-48fd-9f99-48053db727c0"
      },
      "execution_count": 39,
      "outputs": [
        {
          "output_type": "execute_result",
          "data": {
            "text/plain": [
              "{'oculta': <tf.Variable 'b_oculta:0' shape=(3,) dtype=float32, numpy=array([-0.12997146,  0.00534366,  0.06896961], dtype=float32)>,\n",
              " 'saida': <tf.Variable 'b_saida:0' shape=(1,) dtype=float32, numpy=array([-2.076648], dtype=float32)>}"
            ]
          },
          "metadata": {},
          "execution_count": 39
        }
      ]
    },
    {
      "cell_type": "code",
      "source": [
        "n_epocas = 2000\n",
        "taxaAprendizagem = 0.3\n",
        "\n",
        "otimizador = tf.keras.optimizers.SGD(learning_rate = taxaAprendizagem)\n",
        "for epoca in range(n_epocas):\n",
        "\n",
        "    # Todas as operações que fazem parte do grafo (forward pass até o cálculo do erro) devem\n",
        "    # ser feitas dentro da invocação de `tf.GradientTape()`, para que os gradientes sejam gravados.\n",
        "    with tf.GradientTape() as tape:\n",
        "        camada_oculta = tf.add(tf.matmul(X, W['oculta']), b['oculta'])\n",
        "        camada_oculta_ativacao = tf.sigmoid(camada_oculta)\n",
        "        camada_saida = tf.add(tf.matmul(camada_oculta_ativacao, W['saida']), b['saida'])\n",
        "        camada_saida_ativacao = tf.sigmoid(camada_saida)\n",
        "        erro = tf.keras.losses.MSE(y, camada_saida_ativacao)\n",
        "\n",
        "    # Vou salvar as variáveis (pesos e biases que são atualizados) em uma variável para facilitar\n",
        "    # chamá-las depois\n",
        "    var_list = [W['oculta'], W['saida'], b['oculta'], b['saida']]\n",
        "\n",
        "    # Cálculo dos gradientes\n",
        "    gradientes = tape.gradient(erro, var_list)\n",
        "\n",
        "    # Atualização das variáveis (backpropagation)\n",
        "    otimizador.apply_gradients(zip(gradientes, var_list))\n",
        "\n",
        "    if epoca % 200 == 0:\n",
        "        erro_medio = tf.reduce_mean(erro).numpy()\n",
        "        print(erro_medio)"
      ],
      "metadata": {
        "colab": {
          "base_uri": "https://localhost:8080/"
        },
        "id": "fbV5pOsI6_Rq",
        "outputId": "2689a2b0-5df4-4faa-8839-56a12baf85d5"
      },
      "execution_count": 41,
      "outputs": [
        {
          "output_type": "stream",
          "name": "stdout",
          "text": [
            "0.0005232934\n",
            "0.0004989923\n",
            "0.0004767991\n",
            "0.00045645112\n",
            "0.00043773276\n",
            "0.00042045795\n",
            "0.00040446536\n",
            "0.00038961906\n",
            "0.00037580257\n",
            "0.00036291307\n"
          ]
        }
      ]
    },
    {
      "cell_type": "code",
      "source": [
        "W"
      ],
      "metadata": {
        "colab": {
          "base_uri": "https://localhost:8080/"
        },
        "id": "ILdyceC27Kxd",
        "outputId": "f5f6f5f2-0ac7-4a36-d8d0-53052c062c34"
      },
      "execution_count": 42,
      "outputs": [
        {
          "output_type": "execute_result",
          "data": {
            "text/plain": [
              "{'oculta': <tf.Variable 'w_oculta:0' shape=(2, 3) dtype=float32, numpy=\n",
              " array([[ 4.656986 ,  0.7835635,  6.300158 ],\n",
              "        [ 4.317556 , -2.2246857,  6.536928 ]], dtype=float32)>,\n",
              " 'saida': <tf.Variable 'w_saida:0' shape=(3, 1) dtype=float32, numpy=\n",
              " array([[-9.979046],\n",
              "        [ 0.975627],\n",
              "        [ 9.575927]], dtype=float32)>}"
            ]
          },
          "metadata": {},
          "execution_count": 42
        }
      ]
    },
    {
      "cell_type": "code",
      "source": [
        "b"
      ],
      "metadata": {
        "colab": {
          "base_uri": "https://localhost:8080/"
        },
        "id": "JQB7iNVR7LKN",
        "outputId": "18223d73-4527-4d47-987b-2c00585b6544"
      },
      "execution_count": 43,
      "outputs": [
        {
          "output_type": "execute_result",
          "data": {
            "text/plain": [
              "{'oculta': <tf.Variable 'b_oculta:0' shape=(3,) dtype=float32, numpy=array([-6.868025  , -0.67001855, -2.8219464 ], dtype=float32)>,\n",
              " 'saida': <tf.Variable 'b_saida:0' shape=(1,) dtype=float32, numpy=array([-4.739311], dtype=float32)>}"
            ]
          },
          "metadata": {},
          "execution_count": 43
        }
      ]
    },
    {
      "cell_type": "code",
      "source": [
        "# Teste\n",
        "camada_oculta_teste = tf.add(tf.matmul(X, W['oculta']), b['oculta'])\n",
        "camada_oculta_ativacao_teste = tf.sigmoid(camada_oculta_teste)\n",
        "camada_saida_teste = tf.add(tf.matmul(camada_oculta_ativacao_teste, W['saida']), b['saida'])\n",
        "camada_saida_ativacao_teste = tf.sigmoid(camada_saida_teste)"
      ],
      "metadata": {
        "id": "sI0MtWtS7LqR"
      },
      "execution_count": 44,
      "outputs": []
    },
    {
      "cell_type": "code",
      "source": [
        "camada_saida_ativacao_teste"
      ],
      "metadata": {
        "colab": {
          "base_uri": "https://localhost:8080/"
        },
        "id": "pLXBVRah7QU8",
        "outputId": "4a7ad7b7-475f-4fd3-a7ed-ec928b0191b2"
      },
      "execution_count": 45,
      "outputs": [
        {
          "output_type": "execute_result",
          "data": {
            "text/plain": [
              "<tf.Tensor: shape=(4, 1), dtype=float32, numpy=\n",
              "array([[0.02019822],\n",
              "       [0.98087853],\n",
              "       [0.983371  ],\n",
              "       [0.01879674]], dtype=float32)>"
            ]
          },
          "metadata": {},
          "execution_count": 45
        }
      ]
    },
    {
      "cell_type": "markdown",
      "source": [
        "## High Level API - Criação de RNA para solução do XOR com Keras"
      ],
      "metadata": {
        "id": "ElnmUs9G716p"
      }
    },
    {
      "cell_type": "code",
      "source": [
        "import numpy as np\n",
        "import tensorflow as tf\n",
        "from tensorflow import keras\n",
        "from tensorflow.keras import layers\n",
        "\n",
        "taxaAprendizagem = 0.3\n",
        "n_epocas = 5000\n",
        "\n",
        "# Dados de entrada e saída para o problema XOR\n",
        "X = np.array([[0, 0], [0, 1], [1, 0], [1, 1]])\n",
        "y = np.array([0, 1, 1, 0])\n",
        "\n",
        "# Links úteis\n",
        "# TF e Keras CheatSheet: https://github.com/ryanxjhan/TensorFlow-2.x-Cheat-Sheet\n",
        "# https://towardsdatascience.com/tensorflow-keras-cheat-sheet-5ec99d9a1ccf\n",
        "# https://www.tensorflow.org/guide/keras/sequential_model\n",
        "# https://keras.io/guides/\n",
        "\n",
        "# Criação do modelo da rede neural\n",
        "model = keras.Sequential([\n",
        "    layers.Input(shape=(2,)),\n",
        "    layers.Dense(3, activation='sigmoid'),\n",
        "    layers.Dense(1, activation='sigmoid')\n",
        "])\n",
        "\n",
        "# Compilação do modelo com SGD e learning rate de 0.3\n",
        "optimizer = keras.optimizers.SGD(learning_rate=taxaAprendizagem)\n",
        "\n",
        "# Guia do Keras sobre Loss: https://keras.io/api/losses/\n",
        "#model.compile(optimizer=optimizer, loss='binary_crossentropy', metrics=['accuracy'])\n",
        "model.compile(optimizer=optimizer, loss=tf.keras.losses.MeanSquaredError(), metrics=['accuracy'])\n",
        "\n",
        "# Treinamento da rede neural\n",
        "model.fit(X, y, epochs=n_epocas, verbose=0)\n",
        "\n",
        "# Avaliação do modelo\n",
        "loss, accuracy = model.evaluate(X, y)\n",
        "print(f\"Acurácia do modelo: {accuracy * 100:.2f}%\")\n",
        "\n",
        "# Previsão\n",
        "predictions = model.predict(X)\n",
        "for i in range(len(X)):\n",
        "    print(f\"Entrada: {X[i]}, Previsão: {predictions[i][0]:.2f}\")"
      ],
      "metadata": {
        "colab": {
          "base_uri": "https://localhost:8080/"
        },
        "id": "5T5687fs75Ut",
        "outputId": "6d2d63f0-1223-417b-f8b5-9bfb987c51f9"
      },
      "execution_count": 53,
      "outputs": [
        {
          "output_type": "stream",
          "name": "stdout",
          "text": [
            "1/1 [==============================] - 0s 208ms/step - loss: 0.0083 - accuracy: 1.0000\n"
          ]
        },
        {
          "output_type": "stream",
          "name": "stderr",
          "text": [
            "WARNING:tensorflow:5 out of the last 5 calls to <function Model.make_predict_function.<locals>.predict_function at 0x7b56b60edd80> triggered tf.function retracing. Tracing is expensive and the excessive number of tracings could be due to (1) creating @tf.function repeatedly in a loop, (2) passing tensors with different shapes, (3) passing Python objects instead of tensors. For (1), please define your @tf.function outside of the loop. For (2), @tf.function has reduce_retracing=True option that can avoid unnecessary retracing. For (3), please refer to https://www.tensorflow.org/guide/function#controlling_retracing and https://www.tensorflow.org/api_docs/python/tf/function for  more details.\n"
          ]
        },
        {
          "output_type": "stream",
          "name": "stdout",
          "text": [
            "Acurácia do modelo: 100.00%\n",
            "1/1 [==============================] - 0s 82ms/step\n",
            "Entrada: [0 0], Previsão: 0.09\n",
            "Entrada: [0 1], Previsão: 0.91\n",
            "Entrada: [1 0], Previsão: 0.90\n",
            "Entrada: [1 1], Previsão: 0.08\n"
          ]
        }
      ]
    },
    {
      "cell_type": "markdown",
      "source": [
        "## Transferência de Aprendizagem\n",
        "A transferência de aprendizado (ou transferência de conhecimento) com o Keras envolve o uso de modelos de rede neural pré-treinados em tarefas específicas e ajustá-los para atender a uma nova tarefa relacionada. Isso é útil quando você tem um conjunto de dados pequeno para a nova tarefa, mas pode se beneficiar do conhecimento aprendido pelo modelo pré-treinado. O Keras torna isso relativamente simples, graças à disponibilidade de modelos pré-treinados e sua flexibilidade."
      ],
      "metadata": {
        "id": "kU3dfDDaG0ha"
      }
    },
    {
      "cell_type": "code",
      "source": [
        "model.save_weights('meus_pesos.h5')"
      ],
      "metadata": {
        "id": "7VgUgnQZGjcK"
      },
      "execution_count": 50,
      "outputs": []
    },
    {
      "cell_type": "code",
      "source": [
        "X_avaliar = np.array([[0, 0], [0, 1], [1, 0], [1, 1]])\n",
        "\n",
        "model_treinado = keras.Sequential([\n",
        "    layers.Input(shape=(2,)),\n",
        "    layers.Dense(3, activation='sigmoid'),\n",
        "    layers.Dense(1, activation='sigmoid')\n",
        "])\n",
        "\n",
        "model_treinado.load_weights('meus_pesos.h5')\n",
        "\n",
        "predictions = model_treinado.predict(X)\n",
        "for i in range(len(X)):\n",
        "    print(f\"Entrada: {X[i]}, Previsão: {predictions[i][0]:.2f}\")"
      ],
      "metadata": {
        "colab": {
          "base_uri": "https://localhost:8080/"
        },
        "id": "gn4NlmtTUzGq",
        "outputId": "1c0d4ad9-8146-4a6f-81a1-f09b2391d13c"
      },
      "execution_count": 51,
      "outputs": [
        {
          "output_type": "stream",
          "name": "stdout",
          "text": [
            "1/1 [==============================] - 0s 58ms/step\n",
            "Entrada: [0 0], Previsão: 0.02\n",
            "Entrada: [0 1], Previsão: 0.98\n",
            "Entrada: [1 0], Previsão: 0.97\n",
            "Entrada: [1 1], Previsão: 0.03\n"
          ]
        }
      ]
    }
  ]
}